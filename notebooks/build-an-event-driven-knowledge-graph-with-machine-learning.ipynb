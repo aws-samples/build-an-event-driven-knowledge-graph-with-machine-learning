{
 "cells": [
  {
   "cell_type": "markdown",
   "id": "99b29f12-8f69-4f40-9675-a538967aee3f",
   "metadata": {},
   "source": [
    "# Build an event-driven knowledge graph with machine-learning"
   ]
  },
  {
   "cell_type": "markdown",
   "id": "6c8ce821-430c-44b8-878d-f8664a92c44c",
   "metadata": {},
   "source": [
    "This notebook demonstrates how to build an event-driven knowledge graph with machine-learning using Amazon SageMaker \n",
    "and Amazon Neptune."
   ]
  },
  {
   "cell_type": "markdown",
   "id": "f55b5a80-ceeb-4049-8ca5-e5a7e34964f8",
   "metadata": {
    "tags": []
   },
   "source": [
    "## Contents\n",
    "1. [Setup](#Setup)\n",
    "1. [Deploying models from the Registry](#Deploying-models-from-the-Registry)\n",
    "1. [Using the event-driven knowledge graph](#Using-the-event-driven-knowledge-graph)\n",
    "1. [Cleanup](#Cleanup)\n"
   ]
  },
  {
   "cell_type": "markdown",
   "id": "87b2b15b-b5ce-44c8-83ca-bf5947029ff5",
   "metadata": {},
   "source": [
    "## Setup"
   ]
  },
  {
   "cell_type": "markdown",
   "id": "41e7b2a1-8902-41e8-8e6c-fa8c66b422b7",
   "metadata": {},
   "source": [
    "### Setup Dependencies"
   ]
  },
  {
   "cell_type": "code",
   "execution_count": null,
   "id": "8e834412-a377-42be-bc95-46ae40600180",
   "metadata": {
    "scrolled": true,
    "tags": []
   },
   "outputs": [],
   "source": [
    "%pip install --upgrade sagemaker\n",
    "%pip install python-magic\n",
    "%pip install Pillow"
   ]
  },
  {
   "cell_type": "code",
   "execution_count": null,
   "id": "2af2aa5a-e1ca-4b73-988e-9da66cd5f127",
   "metadata": {
    "tags": []
   },
   "outputs": [],
   "source": [
    "import os\n",
    "import json\n",
    "import boto3\n",
    "import sagemaker\n",
    "from utils import register_jumpstart_model\n",
    "import magic\n",
    "from PIL import Image\n",
    "from io import BytesIO\n",
    "import base64\n",
    "import hashlib\n",
    "import uuid\n",
    "import math"
   ]
  },
  {
   "cell_type": "markdown",
   "id": "13bbe8b8-c918-4aa4-a444-ae9d06f26cfa",
   "metadata": {},
   "source": [
    "### Configuration Setup\n"
   ]
  },
  {
   "cell_type": "code",
   "execution_count": null,
   "id": "0dbd5ca2-b6c7-45b7-835e-a792c7943158",
   "metadata": {
    "tags": []
   },
   "outputs": [],
   "source": [
    "# Create the SageMaker Session\n",
    "sagemaker_session = sagemaker.Session()\n",
    "role = sagemaker.get_execution_role()\n",
    "region = sagemaker_session.boto_region_name\n",
    "boto_session = boto3.Session(region_name=region)\n",
    "sagemaker_client = sagemaker_session.sagemaker_client\n",
    "default_bucket = sagemaker_session.default_bucket()"
   ]
  },
  {
   "cell_type": "code",
   "execution_count": null,
   "id": "4a6dca5d",
   "metadata": {
    "tags": []
   },
   "outputs": [],
   "source": [
    "STREAM_NAME = \"bus-ekg\""
   ]
  },
  {
   "cell_type": "markdown",
   "id": "2db06eed-a5bf-4932-a77a-8830342a9197",
   "metadata": {},
   "source": [
    "## Registering Models\n",
    "\n",
    "We'll now register models from SageMaker Jumpstart with the SageMaker Model Registry"
   ]
  },
  {
   "cell_type": "markdown",
   "id": "46ab5850-e8fe-49d7-a527-1195bc8d4dad",
   "metadata": {},
   "source": [
    "Because the SageMaker Model registry does not currently support the \"model data source\" convention used by SageMaker Jumpstart we'll need to package our models before we can register them. \n",
    "\n",
    "Let's look at the method `register_jumpstart_model` from `utils.py` that we'll use to do it."
   ]
  },
  {
   "cell_type": "code",
   "execution_count": null,
   "id": "76bb6bf3-1743-42a1-bc48-2c9d3e30b1cc",
   "metadata": {
    "tags": []
   },
   "outputs": [],
   "source": [
    "register_jumpstart_model??"
   ]
  },
  {
   "cell_type": "code",
   "execution_count": null,
   "id": "0f4d4116-1ad9-49a9-92b6-e1f4bf67225d",
   "metadata": {
    "tags": []
   },
   "outputs": [],
   "source": [
    "# NER Model\n",
    "model_id = \"huggingface-ner-distilbert-base-cased-finetuned-conll03-english\"\n",
    "model_version = \"2.0.0\"\n",
    "model_package_group_name = \"text-ner\"\n",
    "\n",
    "# create the model package group\n",
    "response = sagemaker_session.sagemaker_client.create_model_package_group(\n",
    "    ModelPackageGroupName = model_package_group_name\n",
    ")\n",
    "\n",
    "#register the model\n",
    "model_package_arn = register_jumpstart_model(model_package_group_name,model_id,model_version)\n",
    "\n",
    "ner = model_package_arn\n",
    "print(model_package_arn)"
   ]
  },
  {
   "cell_type": "code",
   "execution_count": null,
   "id": "7a24e309-126b-41ad-b001-409d97f8fbce",
   "metadata": {
    "tags": []
   },
   "outputs": [],
   "source": [
    "# Object Detection\n",
    "\n",
    "model_id = \"pytorch-od1-fasterrcnn-resnet50-fpn\"\n",
    "model_version = \"2.0.0\"\n",
    "model_package_group_name = \"image-od\"\n",
    "\n",
    "# create the model package group\n",
    "response = sagemaker_session.sagemaker_client.create_model_package_group(\n",
    "    ModelPackageGroupName = model_package_group_name\n",
    ")\n",
    "\n",
    "#register the model\n",
    "model_package_arn = register_jumpstart_model(model_package_group_name,model_id,model_version)\n",
    "\n",
    "od = model_package_arn\n",
    "print(model_package_arn)"
   ]
  },
  {
   "cell_type": "code",
   "execution_count": null,
   "id": "ee6b1def-ca16-4499-97bf-67e0c99636f8",
   "metadata": {
    "tags": []
   },
   "outputs": [],
   "source": [
    "# Image Vector Embeddings\n",
    "model_id = \"tensorflow-icembedding-tf2-preview-inception-v3-featurevector-4\"\n",
    "model_version = \"3.0.0\"\n",
    "model_package_group_name = \"image-vector\"\n",
    "\n",
    "\n",
    "# create the model package group\n",
    "response = sagemaker_session.sagemaker_client.create_model_package_group(\n",
    "    ModelPackageGroupName = model_package_group_name\n",
    ")\n",
    "\n",
    "#register the model\n",
    "model_package_arn = register_jumpstart_model(model_package_group_name,model_id,model_version)\n",
    "\n",
    "icembedding = model_package_arn\n",
    "print(model_package_arn)"
   ]
  },
  {
   "cell_type": "markdown",
   "id": "4d08e998-6bad-46bb-ae71-6289d2f75836",
   "metadata": {},
   "source": [
    "## Deploying models from the Registry"
   ]
  },
  {
   "cell_type": "markdown",
   "id": "4317b8eb-52c2-4240-8c12-d8caa96bc9a6",
   "metadata": {},
   "source": [
    "Now we need to deploy the models we've registered"
   ]
  },
  {
   "cell_type": "code",
   "execution_count": null,
   "id": "61c0ac96-61b8-4641-91c1-2a28f8f3b1e0",
   "metadata": {
    "scrolled": true,
    "tags": []
   },
   "outputs": [],
   "source": [
    "# Deploy NER model\n",
    "model_package_arn = ner\n",
    "\n",
    "model = sagemaker.ModelPackage(\n",
    "    role=role, \n",
    "    model_package_arn=model_package_arn, \n",
    "    sagemaker_session=sagemaker_session\n",
    ")\n",
    "\n",
    "# get default instance type\n",
    "response = sagemaker_client.describe_model_package(\n",
    "    ModelPackageName = model_package_arn\n",
    ")\n",
    "instances = response[\"InferenceSpecification\"][\"SupportedRealtimeInferenceInstanceTypes\"]\n",
    "instance = instances[0]\n",
    "\n",
    "# deploy\n",
    "ner_endpoint = model.deploy(endpoint_name=\"text-ner\",initial_instance_count=1, instance_type='ml.g4dn.xlarge',wait=False)"
   ]
  },
  {
   "cell_type": "code",
   "execution_count": null,
   "id": "1a9ab0e9-49c5-4857-8ce1-4a9a861a60a0",
   "metadata": {
    "tags": []
   },
   "outputs": [],
   "source": [
    "# Deploy Object Detection model\n",
    "model_package_arn = od\n",
    "\n",
    "model = sagemaker.ModelPackage(\n",
    "    role=role, \n",
    "    model_package_arn=model_package_arn, \n",
    "    sagemaker_session=sagemaker_session\n",
    ")\n",
    "\n",
    "# get default instance type\n",
    "response = sagemaker_client.describe_model_package(\n",
    "    ModelPackageName = model_package_arn\n",
    ")\n",
    "instances = response[\"InferenceSpecification\"][\"SupportedRealtimeInferenceInstanceTypes\"]\n",
    "instance = instances[0]\n",
    "\n",
    "# deploy\n",
    "od_endpoint = model.deploy(endpoint_name=\"image-od\",initial_instance_count=1, instance_type=instance,wait=False)"
   ]
  },
  {
   "cell_type": "code",
   "execution_count": null,
   "id": "ee627898-1dc1-4fa9-9e23-8968c515faf1",
   "metadata": {
    "tags": []
   },
   "outputs": [],
   "source": [
    "# Deploy Image embedding model\n",
    "model_package_arn = icembedding\n",
    "\n",
    "model = sagemaker.ModelPackage(\n",
    "    role=role, \n",
    "    model_package_arn=model_package_arn, \n",
    "    sagemaker_session=sagemaker_session\n",
    ")\n",
    "\n",
    "# get default instance type\n",
    "response = sagemaker_client.describe_model_package(\n",
    "    ModelPackageName = model_package_arn\n",
    ")\n",
    "instances = response[\"InferenceSpecification\"][\"SupportedRealtimeInferenceInstanceTypes\"]\n",
    "instance = instances[0]\n",
    "\n",
    "# deploy\n",
    "icembedding_endpoint = model.deploy(endpoint_name=\"image-vector\",initial_instance_count=1, instance_type=instance,wait=False)"
   ]
  },
  {
   "cell_type": "markdown",
   "id": "bcf77492-ea6d-4229-b4f5-e69ea2d71b55",
   "metadata": {},
   "source": [
    "## Using the event-driven knowledge graph\n"
   ]
  },
  {
   "cell_type": "markdown",
   "id": "01dc06cc",
   "metadata": {},
   "source": [
    "Our basic schema for an event on the bus  is:\n",
    "\n",
    "```json\n",
    "{\n",
    "  \"detail\": {\n",
    "      \"data\": {\n",
    "          \"...\"\n",
    "      }\n",
    "      \"metadata\": {\n",
    "  }\n",
    "  },\n",
    "  \"detail-type\": \"eventCreated\",\n",
    "  \"source\": \"some.event.source\"\n",
    "}\n",
    "```\n",
    "\n",
    "Where:\n",
    "* `source`: source of the event\n",
    "* `detail-type`: event detail in the past tense, e.g. \"ChannelCreated\".\n",
    "* `detail`: contains further information about the event.\n",
    "  * `detail.metadata`: Contains even metadata fields for subscribers to use. Best practice is to include a field here to support idempotency operations, e.g. `detail.metadata.id` .\n",
    "  * `detail.data`: fields containing the data of an event (e.g. a payload)\n",
    "  \n",
    "See [Building next-generation applications with event-driven architecture](https://www.youtube.com/watch?v=KXR17uwLEC8) for best-practices for events."
   ]
  },
  {
   "cell_type": "code",
   "execution_count": null,
   "id": "0ffaf42e",
   "metadata": {
    "tags": []
   },
   "outputs": [],
   "source": [
    "kinesis = boto_session.client(\"kinesis\")\n",
    "\n",
    "def encode_record(record):\n",
    "    data = json.dumps(record)\n",
    "    data = data.encode(\"utf-8\")\n",
    "    return dict(\n",
    "        Data=data,\n",
    "        PartitionKey=str(uuid.uuid4())\n",
    "    )\n",
    "\n",
    "\n",
    "def put_batch(events):\n",
    "    if len(events) > 0:\n",
    "        response = kinesis.put_records(\n",
    "            StreamName=STREAM_NAME,\n",
    "            Records=[\n",
    "                encode_record(record)\n",
    "                for record in events\n",
    "            ]\n",
    "        )"
   ]
  },
  {
   "cell_type": "markdown",
   "id": "bf5b7dc9",
   "metadata": {},
   "source": [
    "### Using the media stack\n",
    "\n",
    "The media stack has consumers listening for text and images. We set the event `source` field to the mime content type of the source event:\n",
    "* Object Detection Model: with `source` -> `content.image.jpeg`\n",
    "* Image Vector Model: with `source` -> `content.image.*`\n",
    "* Named Entity Recognition Model: with `source` -> `content.text.*`\n"
   ]
  },
  {
   "cell_type": "code",
   "execution_count": null,
   "id": "80d7ec72",
   "metadata": {
    "tags": []
   },
   "outputs": [],
   "source": [
    "def get_md5(data):\n",
    "    return hashlib.md5(data).hexdigest()\n",
    "\n",
    "\n",
    "def get_content_label(data):\n",
    "    mime = magic.from_buffer(data[:100], mime=True)\n",
    "    mime = mime.replace(\"/\", \".\")\n",
    "    return f\"content.{mime}\"\n"
   ]
  },
  {
   "cell_type": "markdown",
   "id": "556abd28",
   "metadata": {},
   "source": [
    "#### Ingesting Text"
   ]
  },
  {
   "cell_type": "code",
   "execution_count": null,
   "id": "c74dc09f",
   "metadata": {
    "tags": []
   },
   "outputs": [],
   "source": [
    "%%gremlin\n",
    "\n",
    "g.V().count()"
   ]
  },
  {
   "cell_type": "code",
   "execution_count": null,
   "id": "a85c67c3",
   "metadata": {
    "tags": []
   },
   "outputs": [],
   "source": [
    "data = b\"My name is Wolfgang and I live in Berlin\"\n",
    "event = {\n",
    "  \"detail\": {\n",
    "    \"data\": {\n",
    "      \"payload\": data.decode(\"utf-8\")\n",
    "    },\n",
    "    \"metadata\": {\n",
    "      \"~id\": get_md5(data)\n",
    "    }\n",
    "  },\n",
    "  \"detail-type\": \"textExtracted\",\n",
    "  \"source\": get_content_label(data)\n",
    "}\n",
    "\n",
    "event"
   ]
  },
  {
   "cell_type": "code",
   "execution_count": null,
   "id": "95e8ebdd",
   "metadata": {
    "tags": []
   },
   "outputs": [],
   "source": [
    "put_batch([event])"
   ]
  },
  {
   "cell_type": "markdown",
   "id": "ae843b65",
   "metadata": {},
   "source": [
    "We can now query the graph to view the results:"
   ]
  },
  {
   "cell_type": "code",
   "execution_count": null,
   "id": "4cc0b886",
   "metadata": {
    "tags": []
   },
   "outputs": [],
   "source": [
    "%%gremlin -p v,outE,inV\n",
    "\n",
    "g.V().outE().inV().path().by(valueMap(true))"
   ]
  },
  {
   "cell_type": "markdown",
   "id": "29394fff",
   "metadata": {},
   "source": [
    "#### Ingesting Images"
   ]
  },
  {
   "cell_type": "markdown",
   "id": "0286ceb6",
   "metadata": {},
   "source": [
    "Next we'll ingest an image"
   ]
  },
  {
   "cell_type": "code",
   "execution_count": null,
   "id": "5601f81e",
   "metadata": {
    "tags": []
   },
   "outputs": [],
   "source": [
    "bucket_for_jumpstart_assets = f\"jumpstart-cache-prod-{boto_session.region_name}\"\n",
    "\n",
    "data = sagemaker_session.s3_client.get_object(Bucket=bucket_for_jumpstart_assets,Key=\"inference-notebook-assets/Naxos_Taverna.jpg\")[\"Body\"].read()"
   ]
  },
  {
   "cell_type": "markdown",
   "id": "e988a300",
   "metadata": {},
   "source": [
    "Let's have a look at the image:"
   ]
  },
  {
   "cell_type": "code",
   "execution_count": null,
   "id": "fb90a937",
   "metadata": {
    "tags": []
   },
   "outputs": [],
   "source": [
    "Image.open(BytesIO(data))"
   ]
  },
  {
   "cell_type": "code",
   "execution_count": null,
   "id": "1dc2ca81",
   "metadata": {
    "tags": []
   },
   "outputs": [],
   "source": [
    "def resize(data, size):\n",
    "    im = Image.open(BytesIO(data))\n",
    "    if type(size) == float:\n",
    "        w1,h1 = math.floor(im.width * size),math.floor(im.height * size)\n",
    "        im = im.resize((w1,h1))\n",
    "    elif type(size) == tuple:\n",
    "        im = im.resize(size)\n",
    "    fp = BytesIO()\n",
    "    im.save(fp, format='jpeg')\n",
    "    data = fp.getvalue()\n",
    "    return data\n",
    "\n",
    "def encode_data(data):\n",
    "    data = base64.b64encode(data).decode(\"utf-8\")\n",
    "    return data"
   ]
  },
  {
   "cell_type": "code",
   "execution_count": null,
   "id": "7abd9132",
   "metadata": {
    "tags": []
   },
   "outputs": [],
   "source": [
    "# We'll need to resize this image to keep it under the limit for event sizes for StepFunctions (256Kb)\n",
    "data_resized = resize(data,0.7)\n",
    "# We base64 encode the image so we can \n",
    "payload = encode_data(data_resized)\n",
    "\n",
    "\n",
    "event = {\n",
    "  \"detail\": {\n",
    "    \"data\": {\n",
    "      \"payload\": payload\n",
    "    },\n",
    "    \"metadata\": {\n",
    "      \"~id\": get_md5(data),\n",
    "      \"uri\": f\"s3://{bucket_for_jumpstart_assets}/inference-notebook-assets/Naxos_Taverna.jpg\",\n",
    "    }\n",
    "  },\n",
    "  \"detail-type\": \"imageCreated\",\n",
    "  \"source\": get_content_label(data)\n",
    "}\n",
    "\n",
    "put_batch([event])"
   ]
  },
  {
   "cell_type": "markdown",
   "id": "74ad1eee",
   "metadata": {},
   "source": [
    "Now we can query the graph:"
   ]
  },
  {
   "cell_type": "code",
   "execution_count": null,
   "id": "536583f4",
   "metadata": {
    "tags": []
   },
   "outputs": [],
   "source": [
    "%%gremlin -p v,outE,inV\n",
    "\n",
    "g.V().outE().inV().path().by(valueMap(true))"
   ]
  },
  {
   "cell_type": "markdown",
   "id": "98ae8c3f-6d1a-4030-84f9-20ec0a8ec991",
   "metadata": {},
   "source": [
    "## Cleanup"
   ]
  },
  {
   "cell_type": "code",
   "execution_count": null,
   "id": "7ee50b20",
   "metadata": {
    "tags": []
   },
   "outputs": [],
   "source": [
    "# drop the data from the graph"
   ]
  },
  {
   "cell_type": "code",
   "execution_count": null,
   "id": "8bb25652",
   "metadata": {
    "tags": []
   },
   "outputs": [],
   "source": [
    "%%gremlin\n",
    "\n",
    "g.V().drop()"
   ]
  },
  {
   "cell_type": "code",
   "execution_count": null,
   "id": "7584232c-998d-4d97-b182-056d07912ae9",
   "metadata": {
    "tags": []
   },
   "outputs": [],
   "source": [
    "# delete endpoints and endpoint configuration\n",
    "\n",
    "for name in [\n",
    "    \"text-ner\",\n",
    "    \"image-od\",\n",
    "    \"image-vector\"\n",
    "    ]:\n",
    "    # delete endpoints\n",
    "    sagemaker_client.delete_endpoint(\n",
    "      EndpointName=name\n",
    "    )\n",
    "    # delete endpoint config\n",
    "    sagemaker_client.delete_endpoint_config(EndpointConfigName = name)"
   ]
  }
 ],
 "metadata": {
  "kernelspec": {
   "display_name": "Python 3",
   "language": "python",
   "name": "python3"
  },
  "language_info": {
   "codemirror_mode": {
    "name": "ipython",
    "version": 3
   },
   "file_extension": ".py",
   "mimetype": "text/x-python",
   "name": "python",
   "nbconvert_exporter": "python",
   "pygments_lexer": "ipython3",
   "version": "3.10.8"
  }
 },
 "nbformat": 4,
 "nbformat_minor": 5
}
